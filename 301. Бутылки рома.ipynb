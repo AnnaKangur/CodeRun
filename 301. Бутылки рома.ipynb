{
 "cells": [
  {
   "cell_type": "markdown",
   "id": "7d60f675",
   "metadata": {},
   "source": [
    "# 301. Бутылки рома"
   ]
  },
  {
   "cell_type": "code",
   "execution_count": 1,
   "id": "57a7b0d1",
   "metadata": {},
   "outputs": [],
   "source": [
    "import itertools\n",
    "f = open('input.txt', 'r')\n",
    "s = list(f.readline())\n",
    "l = len(s)\n",
    "dct = []\n",
    "\n",
    "for i in range(1,l+1):\n",
    "    C = list(itertools.combinations(s, i))\n",
    "    for j in range(len(C)):\n",
    "        P = list(itertools.permutations(''.join(list(C[j]))))\n",
    "        for k in range(len(P)):\n",
    "            slovo = ''.join(list(P[k]))\n",
    "            if not slovo in dct:\n",
    "                dct.append(slovo)\n",
    "print(len(dct))"
   ]
  },
  {
   "cell_type": "code",
   "execution_count": null,
   "id": "8ccef4e8",
   "metadata": {},
   "outputs": [],
   "source": []
  }
 ],
 "metadata": {
  "kernelspec": {
   "display_name": "Python 3 (ipykernel)",
   "language": "python",
   "name": "python3"
  },
  "language_info": {
   "codemirror_mode": {
    "name": "ipython",
    "version": 3
   },
   "file_extension": ".py",
   "mimetype": "text/x-python",
   "name": "python",
   "nbconvert_exporter": "python",
   "pygments_lexer": "ipython3",
   "version": "3.9.7"
  }
 },
 "nbformat": 4,
 "nbformat_minor": 5
}
