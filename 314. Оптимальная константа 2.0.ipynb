{
 "cells": [
  {
   "cell_type": "markdown",
   "id": "98ca6794",
   "metadata": {},
   "source": [
    "# 314. Оптимальная константа 2.0"
   ]
  },
  {
   "cell_type": "code",
   "execution_count": 2,
   "id": "42dcbfff",
   "metadata": {},
   "outputs": [
    {
     "name": "stdout",
     "output_type": "stream",
     "text": [
      "5 1\n",
      "5.66192 6.322711 121.257938\n",
      "3.049585 5.285749 46.892782\n",
      "0.227632 4.771393 9.516171\n",
      "145.759519 5.320249 28.646039\n",
      "22.774692 13.604903 36.033962\n",
      "0.145679627696649 0.13862254095243398 0.145679627696649\n"
     ]
    }
   ],
   "source": [
    "import sys\n",
    "import math \n",
    "\n",
    "def main():\n",
    "    \n",
    "    n, k = map(int, input().split())\n",
    "    a, b = [], []\n",
    "    for i in range(n):\n",
    "        s = list(map(float, input().split()))\n",
    "        b.append(s[-1])\n",
    "        a.append(s[-2])    \n",
    "    p_mse = sum(a)/sum(b)\n",
    "    \n",
    "    t = [a[i]/b[i] for i in range(n)]\n",
    "    S = sum([b[i] * math.log(1+t[i]) for i in range(n)]) / sum(b)\n",
    "    p_msle = math.exp(S) - 1\n",
    "    \n",
    "    S1 = sum([b[i] * t[i] for i in range(n)])\n",
    "    S2 = sum([b[i] * (1-t[i]) for i in range(n)])\n",
    "    p_logloss = S1/(S2+S1)\n",
    "\n",
    "    print(p_mse, p_msle, p_logloss, sep = ' ')\n",
    "\n",
    "if __name__ == '__main__':\n",
    "    main()"
   ]
  }
 ],
 "metadata": {
  "kernelspec": {
   "display_name": "Python 3 (ipykernel)",
   "language": "python",
   "name": "python3"
  },
  "language_info": {
   "codemirror_mode": {
    "name": "ipython",
    "version": 3
   },
   "file_extension": ".py",
   "mimetype": "text/x-python",
   "name": "python",
   "nbconvert_exporter": "python",
   "pygments_lexer": "ipython3",
   "version": "3.9.7"
  }
 },
 "nbformat": 4,
 "nbformat_minor": 5
}
