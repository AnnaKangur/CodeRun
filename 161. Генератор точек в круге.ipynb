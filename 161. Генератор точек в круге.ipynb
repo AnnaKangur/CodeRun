{
 "cells": [
  {
   "cell_type": "markdown",
   "id": "6406aae7",
   "metadata": {},
   "source": [
    "# 161. Генератор точек в круге"
   ]
  },
  {
   "cell_type": "code",
   "execution_count": 1,
   "id": "bf08084c",
   "metadata": {},
   "outputs": [],
   "source": [
    "import sys\n",
    "from random import *\n",
    "from math import *\n",
    "import numpy"
   ]
  },
  {
   "cell_type": "code",
   "execution_count": 2,
   "id": "1153d51c",
   "metadata": {},
   "outputs": [],
   "source": [
    "def generate1():\n",
    "    a = uniform(0, 1)\n",
    "    b = uniform(0, 1)\n",
    "    return (a * cos(2 * pi * b), a * sin(2 * pi * b))\n",
    "\n",
    "def generate2():\n",
    "    while True:\n",
    "        x = uniform(-1, 1)\n",
    "        y = uniform(-1, 1)\n",
    "        if x ** 2 + y ** 2 > 1:\n",
    "            continue\n",
    "        return (x, y)"
   ]
  },
  {
   "cell_type": "code",
   "execution_count": 3,
   "id": "095fdf29",
   "metadata": {},
   "outputs": [
    {
     "data": {
      "text/plain": [
       "(0.4025180477220229, 0.5017114575873433)"
      ]
     },
     "execution_count": 3,
     "metadata": {},
     "output_type": "execute_result"
    }
   ],
   "source": [
    "n = 1000\n",
    "x = []\n",
    "y = []\n",
    "for i in range(n):\n",
    "    x1, x2 = generate1()\n",
    "    x.append(x1)\n",
    "    x.append(x1)\n",
    "    y1, y2 = generate2()\n",
    "    y.append(y1)\n",
    "    y.append(y1)\n",
    "numpy.std(x), numpy.std(y)"
   ]
  },
  {
   "cell_type": "code",
   "execution_count": null,
   "id": "f1f24aee",
   "metadata": {},
   "outputs": [],
   "source": [
    "import sys\n",
    "from math import *\n",
    "import numpy\n",
    "\n",
    "def main():\n",
    "    for i in range(100):\n",
    "        a = list(map(float, input().split()))\n",
    "        std = numpy.std(a)\n",
    "        res = 1 if fabs(0.4-std) < fabs(0.5-std) else 2\n",
    "        print(res)\n",
    "\n",
    "if __name__ == '__main__':\n",
    "    main()"
   ]
  }
 ],
 "metadata": {
  "kernelspec": {
   "display_name": "Python 3 (ipykernel)",
   "language": "python",
   "name": "python3"
  },
  "language_info": {
   "codemirror_mode": {
    "name": "ipython",
    "version": 3
   },
   "file_extension": ".py",
   "mimetype": "text/x-python",
   "name": "python",
   "nbconvert_exporter": "python",
   "pygments_lexer": "ipython3",
   "version": "3.9.7"
  }
 },
 "nbformat": 4,
 "nbformat_minor": 5
}
