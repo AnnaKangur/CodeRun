{
 "cells": [
  {
   "cell_type": "markdown",
   "id": "2cd14c31",
   "metadata": {},
   "source": [
    "# 177. Тайна египетских пирамид"
   ]
  },
  {
   "cell_type": "code",
   "execution_count": null,
   "id": "26fe9f01",
   "metadata": {},
   "outputs": [],
   "source": [
    "import sys\n",
    "import numpy as np\n",
    "from scipy.optimize import least_squares\n",
    "\n",
    "def fun(x, t, y):\n",
    "    return x[0]*np.tan(t) + (x[1]*np.sin(t) + x[2]*np.cos(t))**2 + x[3]*np.sqrt(t) - y\n",
    "\n",
    "def main():\n",
    "    n = int(input())\n",
    "    X = []\n",
    "    Y = []\n",
    "    for i in range(n):\n",
    "        xx, yy = map(float, input().split())\n",
    "        X.append(xx)\n",
    "        Y.append(yy)\n",
    "        \n",
    "    x0 = np.array([1.0, 1.0, 1.0, 1.0])\n",
    "    X = np.array(X)\n",
    "    Y = np.array(Y)\n",
    "    res_lsq = least_squares(fun, x0, args=(X, Y))\n",
    "    a, b, c, d = res_lsq.x\n",
    "    print ('{:.1f} {:.1f} {:.1f} {:.1f}'.format(a, b, c, d))\n",
    "    \n",
    "if __name__ == '__main__':\n",
    "    main()"
   ]
  },
  {
   "cell_type": "code",
   "execution_count": null,
   "id": "bccd99cf",
   "metadata": {},
   "outputs": [],
   "source": [
    "20\n",
    "0.5 7.11\n",
    "1.0 6.69\n",
    "1.5 4.97\n",
    "2.0 4.25\n",
    "2.5 5.75\n",
    "3.0 8.58\n",
    "3.5 10.56\n",
    "4.0 10.26\n",
    "4.5 8.32\n",
    "5.0 6.86\n",
    "5.5 7.54\n",
    "6.0 10.04\n",
    "6.5 12.35\n",
    "7.0 12.62\n",
    "7.5 10.88\n",
    "8.0 8.97\n",
    "8.5 8.91\n",
    "9.0 10.99\n",
    "9.5 13.53\n",
    "10.0 14.42\n",
    "\n",
    "0.00 1.00 2.00 3.00"
   ]
  }
 ],
 "metadata": {
  "kernelspec": {
   "display_name": "Python 3 (ipykernel)",
   "language": "python",
   "name": "python3"
  },
  "language_info": {
   "codemirror_mode": {
    "name": "ipython",
    "version": 3
   },
   "file_extension": ".py",
   "mimetype": "text/x-python",
   "name": "python",
   "nbconvert_exporter": "python",
   "pygments_lexer": "ipython3",
   "version": "3.9.7"
  }
 },
 "nbformat": 4,
 "nbformat_minor": 5
}
