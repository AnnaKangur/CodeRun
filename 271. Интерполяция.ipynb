{
 "cells": [
  {
   "cell_type": "markdown",
   "id": "8d034990",
   "metadata": {},
   "source": [
    "# 271. Интерполяция"
   ]
  },
  {
   "cell_type": "code",
   "execution_count": 1,
   "id": "017eeb91",
   "metadata": {},
   "outputs": [],
   "source": [
    "import sys\n",
    "\n",
    "def polynomial(x):\n",
    "    a, b, c, d, e = x\n",
    "    return [a**2, 2*a*b, 2*a*c, 2*a*d, 2*a*e,\n",
    "            b**2, 2*b*c, 2*b*d, 2*b*e,\n",
    "            c**2, 2*c*d, 2*c*e,\n",
    "            d**2, 2*d*e,\n",
    "            e**2,\n",
    "            a, b, c, d, e]\n",
    "\n",
    "def main():\n",
    "    data = []\n",
    "    with open('input.txt', 'r') as f:\n",
    "        for line in f:\n",
    "            data.append(list(map(float, line.split('\\t'))))\n",
    "    # print(data)\n",
    "\n",
    "    x_train = []\n",
    "    y_train = []\n",
    "    x_test = []\n",
    "    for i in range(1000):\n",
    "        x_train.append(data[i][:5])\n",
    "        y_train.append(data[i][5])\n",
    "        x_test.append(data[i+1000][:5])\n",
    "\n",
    "    TRAIN = []\n",
    "    TEST = []\n",
    "    for i in range(1000):\n",
    "        x = x_train[i]\n",
    "        TRAIN.append(polynomial(x))\n",
    "        x = x_test[i]\n",
    "        TEST.append(polynomial(x))\n",
    "\n",
    "    from sklearn import linear_model\n",
    "    reg = linear_model.LinearRegression()\n",
    "    reg.fit(TRAIN, y_train)\n",
    "    pred = reg.predict(TEST)\n",
    "    print(*pred,sep = '\\n')    \n",
    "\n",
    "\n",
    "if __name__ == '__main__':\n",
    "    main()"
   ]
  }
 ],
 "metadata": {
  "kernelspec": {
   "display_name": "Python 3 (ipykernel)",
   "language": "python",
   "name": "python3"
  },
  "language_info": {
   "codemirror_mode": {
    "name": "ipython",
    "version": 3
   },
   "file_extension": ".py",
   "mimetype": "text/x-python",
   "name": "python",
   "nbconvert_exporter": "python",
   "pygments_lexer": "ipython3",
   "version": "3.9.7"
  }
 },
 "nbformat": 4,
 "nbformat_minor": 5
}
