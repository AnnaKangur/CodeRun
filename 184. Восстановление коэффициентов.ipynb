{
 "cells": [
  {
   "cell_type": "markdown",
   "id": "ee1e937d",
   "metadata": {},
   "source": [
    "# 184. Восстановление коэффициентов"
   ]
  },
  {
   "cell_type": "code",
   "execution_count": 2,
   "id": "3eeb987f",
   "metadata": {},
   "outputs": [
    {
     "name": "stdout",
     "output_type": "stream",
     "text": [
      "3.14 2.72 4.00\n"
     ]
    }
   ],
   "source": [
    "x = []\n",
    "y = []\n",
    "for line in open('data.csv'):\n",
    "    xx, yy = map(float, line.strip().split(','))\n",
    "    x.append(xx)\n",
    "    y.append(yy)\n",
    "    \n",
    "from math import *\n",
    "features = []\n",
    "for xx in x:\n",
    "    curFeatures = [\n",
    "        sin(xx) ** 2,  #a^2            \n",
    "        log(xx) ** 2,  #b^2           \n",
    "        sin(xx) * log(xx),   #2ab \n",
    "        xx ** 2            #c      \n",
    "    ]\n",
    "    features.append(curFeatures)\n",
    "\n",
    "from sklearn.linear_model import LinearRegression\n",
    "linearModel = LinearRegression()\n",
    "linearModel.fit(features, y)\n",
    "\n",
    "coeffs = linearModel.coef_\n",
    "\n",
    "a = sqrt(coeffs[0])\n",
    "b = sqrt(coeffs[1])\n",
    "c = coeffs[3]\n",
    "\n",
    "# print (\"free coeff: \", linearModel.intercept_)\n",
    "# print (\"2ab error: \", coeffs[2] - 2 * a * b)\n",
    "print ('{:.2f} {:.2f} {:.2f}'.format(a, b, c))"
   ]
  }
 ],
 "metadata": {
  "kernelspec": {
   "display_name": "Python 3 (ipykernel)",
   "language": "python",
   "name": "python3"
  },
  "language_info": {
   "codemirror_mode": {
    "name": "ipython",
    "version": 3
   },
   "file_extension": ".py",
   "mimetype": "text/x-python",
   "name": "python",
   "nbconvert_exporter": "python",
   "pygments_lexer": "ipython3",
   "version": "3.9.7"
  }
 },
 "nbformat": 4,
 "nbformat_minor": 5
}
