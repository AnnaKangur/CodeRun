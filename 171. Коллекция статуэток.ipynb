{
 "cells": [
  {
   "cell_type": "markdown",
   "id": "235b7a2e",
   "metadata": {},
   "source": [
    "# 171. Коллекция статуэток"
   ]
  },
  {
   "cell_type": "code",
   "execution_count": 1,
   "id": "b7ab1b9c",
   "metadata": {},
   "outputs": [
    {
     "name": "stdout",
     "output_type": "stream",
     "text": [
      "10\n"
     ]
    }
   ],
   "source": [
    "import sys\n",
    "\n",
    "def main():\n",
    "#     n, k = map(int, input().split())\n",
    "#     a = list(map(int, input().split()))\n",
    "    n, k = 10, 3\n",
    "    a = list(map(int, '1 9 2 4 3 1 8 2 10 9'.split()))\n",
    "    \n",
    "    dct = [[] for i in range(k+1)]\n",
    "    for i in range(n): \n",
    "        if a[i] <= k:\n",
    "            dct[a[i]].append(i)\n",
    "            \n",
    "    stack = [0]*(k+1)\n",
    "    for i in range(1,k+1):\n",
    "        stack[i] = dct[i].pop(0)\n",
    "\n",
    "    stack_sort = sorted(stack[1:])\n",
    "    \n",
    "    start =  stack_sort[0]\n",
    "    finish =  stack_sort[k-1]\n",
    "    \n",
    "    S = sum(a[start:finish+1])\n",
    "    minS = S\n",
    "    \n",
    "    a_left = a[start]\n",
    "    \n",
    "    while len(dct[a_left]) > 0:\n",
    "        \n",
    "        ind = dct[a_left].pop(0)\n",
    "        stack_sort.pop(0)\n",
    "        \n",
    "        first = 0\n",
    "        last = k-2\n",
    "        while (first < last):\n",
    "            mid = (first+last)//2\n",
    "            if stack_sort[mid] < ind:\n",
    "                first = mid+1\n",
    "            else:\n",
    "                last = mid  \n",
    "\n",
    "        if stack_sort[last] < ind:\n",
    "            stack_sort.append(ind)\n",
    "        else:\n",
    "            stack_sort.insert(last,ind)\n",
    "        \n",
    "        S -= sum(a[start:stack_sort[0]])\n",
    "        start = stack_sort[0]\n",
    "        \n",
    "        S += sum(a[finish+1:stack_sort[k-1]+1])\n",
    "        finish = stack_sort[k-1]\n",
    "        \n",
    "        minS = min(minS, S)\n",
    "        a_left = a[start]\n",
    "        \n",
    "    print(minS)\n",
    "    \n",
    "if __name__ == '__main__':\n",
    "    main()  "
   ]
  }
 ],
 "metadata": {
  "kernelspec": {
   "display_name": "Python 3 (ipykernel)",
   "language": "python",
   "name": "python3"
  },
  "language_info": {
   "codemirror_mode": {
    "name": "ipython",
    "version": 3
   },
   "file_extension": ".py",
   "mimetype": "text/x-python",
   "name": "python",
   "nbconvert_exporter": "python",
   "pygments_lexer": "ipython3",
   "version": "3.9.7"
  }
 },
 "nbformat": 4,
 "nbformat_minor": 5
}
