{
 "cells": [
  {
   "cell_type": "markdown",
   "id": "bfae4201",
   "metadata": {},
   "source": [
    "# 283. Канатная дорога"
   ]
  },
  {
   "cell_type": "code",
   "execution_count": 2,
   "id": "6d0241d4",
   "metadata": {},
   "outputs": [
    {
     "name": "stdout",
     "output_type": "stream",
     "text": [
      "6\n",
      "3 2\n",
      "5 1\n",
      "7 4\n",
      "9 3\n",
      "11 7\n",
      "12 1\n",
      "31.710272946224936\n"
     ]
    }
   ],
   "source": [
    "import sys\n",
    "\n",
    "def d(x, y):\n",
    "    return (x**2 + y**2)**0.5\n",
    "\n",
    "def main():\n",
    "    n = int(input())\n",
    "    x = [0]\n",
    "    y = [0]\n",
    "    for i in range(n):\n",
    "        xx, yy = map(int, input().split())\n",
    "        x.append(xx)\n",
    "        y.append(yy)\n",
    "\n",
    "    s = 0\n",
    "    stack = []\n",
    "    for i in range(1,n+1):\n",
    "        s += d(x[i]-x[i-1],y[i]-y[i-1])\n",
    "        if y[i-1] > y[i]: \n",
    "            stack.append(i-1)\n",
    "        while len(stack) > 0 and y[i] >= y[stack[-1]] and i != stack[-1]+1:\n",
    "            j = stack[-1]\n",
    "            s += d(x[j]-x[i],y[j]-y[i])\n",
    "            stack.pop()                \n",
    "    print(s)\n",
    "    \n",
    "if __name__ == '__main__':\n",
    "    main()"
   ]
  }
 ],
 "metadata": {
  "kernelspec": {
   "display_name": "Python 3 (ipykernel)",
   "language": "python",
   "name": "python3"
  },
  "language_info": {
   "codemirror_mode": {
    "name": "ipython",
    "version": 3
   },
   "file_extension": ".py",
   "mimetype": "text/x-python",
   "name": "python",
   "nbconvert_exporter": "python",
   "pygments_lexer": "ipython3",
   "version": "3.9.7"
  }
 },
 "nbformat": 4,
 "nbformat_minor": 5
}
