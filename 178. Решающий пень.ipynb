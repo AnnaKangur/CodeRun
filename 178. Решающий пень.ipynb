{
 "cells": [
  {
   "cell_type": "markdown",
   "id": "91d01340",
   "metadata": {},
   "source": [
    "# 178. Решающий пень"
   ]
  },
  {
   "cell_type": "code",
   "execution_count": 1,
   "id": "60df664f",
   "metadata": {},
   "outputs": [
    {
     "name": "stdout",
     "output_type": "stream",
     "text": [
      "1.000000 0.000000 1.500000\n"
     ]
    }
   ],
   "source": [
    "import sys\n",
    "import numpy\n",
    "from math import *\n",
    "from sklearn.metrics import mean_squared_error\n",
    "    \n",
    "    \n",
    "    \n",
    "def main():\n",
    "    # n = int(input())\n",
    "    n = 4\n",
    "    data = [[0,1],\n",
    "           [3,0],\n",
    "           [2,0],\n",
    "           [1,1]]\n",
    "    Arr = []\n",
    "    for i in range(n):\n",
    "        # xx, yy = map(int, input().split())\n",
    "        xx, yy = data[i]\n",
    "        Arr.append([xx,yy])\n",
    "    Arr.sort()   \n",
    "    y = [ Arr[i][1] for i in range(n)]\n",
    "    c = [ (Arr[0][0] + Arr[1][0]) / 2 ]\n",
    "    a = [ Arr[1][0] ]\n",
    "    acount = 1\n",
    "    b = [ sum([Arr[i][1] for i in range(1,n)])/(n-1) ]\n",
    "    bcount = n-1\n",
    "    for i in range(1, n-1):\n",
    "        cc = (Arr[i][0] + Arr[i+1][0]) / 2\n",
    "        c.append(cc)\n",
    "        aa = (a[i-1]*acount + Arr[i][1]) / (acount + 1)\n",
    "        acount += 1\n",
    "        a.append(aa)\n",
    "        bb = (b[i-1]*bcount - Arr[i][1]) / (bcount - 1)\n",
    "        bcount -= 1\n",
    "        b.append(bb)\n",
    "        \n",
    "    c.insert(0, Arr[0][0]-1)\n",
    "    a.insert(0, Arr[0][1]-1)\n",
    "    b.insert(0, sum(y)/n)\n",
    "    \n",
    "    c.append(Arr[n-1][0]+1)\n",
    "    a.append(sum(y)/n)\n",
    "    b.append(Arr[n-1][1]+1)\n",
    "       \n",
    "    min_err = Arr[n-1][0]\n",
    "    min_ind = -1\n",
    "    for i in range(n+1):\n",
    "        pred = [a[i]]*(i) + [b[i]]*(n-i)\n",
    "        err = mean_squared_error(y, pred)\n",
    "        if err < min_err:\n",
    "            min_err = err\n",
    "            min_ind = i \n",
    "    print ('{:.6f} {:.6f} {:.6f}'.format(a[min_ind], b[min_ind], c[min_ind]))   \n",
    "    \n",
    "if __name__ == '__main__':\n",
    "    main()"
   ]
  }
 ],
 "metadata": {
  "kernelspec": {
   "display_name": "Python 3 (ipykernel)",
   "language": "python",
   "name": "python3"
  },
  "language_info": {
   "codemirror_mode": {
    "name": "ipython",
    "version": 3
   },
   "file_extension": ".py",
   "mimetype": "text/x-python",
   "name": "python",
   "nbconvert_exporter": "python",
   "pygments_lexer": "ipython3",
   "version": "3.9.7"
  }
 },
 "nbformat": 4,
 "nbformat_minor": 5
}
