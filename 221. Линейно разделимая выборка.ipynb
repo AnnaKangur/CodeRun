{
 "cells": [
  {
   "cell_type": "markdown",
   "id": "8dd3324c",
   "metadata": {},
   "source": [
    "# 221. Линейно разделимая выборка"
   ]
  },
  {
   "cell_type": "code",
   "execution_count": 1,
   "id": "04fafb83",
   "metadata": {},
   "outputs": [],
   "source": [
    "import sys\n",
    "from sklearn.linear_model import LinearRegression\n",
    "\n",
    "\n",
    "def main():\n",
    "    n, m = map (int, input().split() )\n",
    "    x = []\n",
    "    y = []\n",
    "    for i in range(n):\n",
    "        row = list( map(float, input().split()))\n",
    "        x.append(row[:m])\n",
    "        y.append(row[m])\n",
    "    \n",
    "    linearModel = LinearRegression(fit_intercept = False)\n",
    "    linearModel.fit(x, y)\n",
    "    \n",
    "    coeffs = linearModel.coef_\n",
    "    print(*coeffs)\n",
    "\n",
    "\n",
    "if __name__ == '__main__':\n",
    "    main()"
   ]
  }
 ],
 "metadata": {
  "kernelspec": {
   "display_name": "Python 3 (ipykernel)",
   "language": "python",
   "name": "python3"
  },
  "language_info": {
   "codemirror_mode": {
    "name": "ipython",
    "version": 3
   },
   "file_extension": ".py",
   "mimetype": "text/x-python",
   "name": "python",
   "nbconvert_exporter": "python",
   "pygments_lexer": "ipython3",
   "version": "3.9.7"
  }
 },
 "nbformat": 4,
 "nbformat_minor": 5
}
