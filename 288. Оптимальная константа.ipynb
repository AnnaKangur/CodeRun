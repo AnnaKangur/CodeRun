{
 "cells": [
  {
   "cell_type": "markdown",
   "id": "d4d48642",
   "metadata": {},
   "source": [
    "# 288. Оптимальная константа"
   ]
  },
  {
   "cell_type": "code",
   "execution_count": 1,
   "id": "f1375e18",
   "metadata": {},
   "outputs": [
    {
     "name": "stdout",
     "output_type": "stream",
     "text": [
      "5\n",
      "6\n",
      "4\n",
      "3\n",
      "5\n",
      "3\n",
      "4.2\n",
      "4\n",
      "4\n"
     ]
    }
   ],
   "source": [
    "import sys\n",
    "\n",
    "def main():\n",
    "    N = int(input())\n",
    "    y = []\n",
    "    for i in range(N):\n",
    "        y.append(int(input()))\n",
    "    C_mse = sum(y)/N\n",
    "    y.sort()\n",
    "    C_mae = y[N//2]\n",
    "    C_mape = C_mae \n",
    "    print(C_mse, C_mae, C_mape, sep = '\\n')\n",
    "\n",
    "if __name__ == '__main__':\n",
    "    main()"
   ]
  }
 ],
 "metadata": {
  "kernelspec": {
   "display_name": "Python 3 (ipykernel)",
   "language": "python",
   "name": "python3"
  },
  "language_info": {
   "codemirror_mode": {
    "name": "ipython",
    "version": 3
   },
   "file_extension": ".py",
   "mimetype": "text/x-python",
   "name": "python",
   "nbconvert_exporter": "python",
   "pygments_lexer": "ipython3",
   "version": "3.9.7"
  }
 },
 "nbformat": 4,
 "nbformat_minor": 5
}
