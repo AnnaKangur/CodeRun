{
 "cells": [
  {
   "cell_type": "markdown",
   "id": "16a59935",
   "metadata": {},
   "source": [
    "# 207. Обобщённый AUC"
   ]
  },
  {
   "cell_type": "code",
   "execution_count": 2,
   "id": "7a259202",
   "metadata": {},
   "outputs": [
    {
     "name": "stdout",
     "output_type": "stream",
     "text": [
      "3\n",
      "0.5 0\n",
      "0.5 1\n",
      "0 0.5\n",
      "0.5\n"
     ]
    }
   ],
   "source": [
    "import sys\n",
    "\n",
    "def main():\n",
    "    \n",
    "    n = int(input())\n",
    "    arr = []\n",
    "    for i in range(n):\n",
    "        tt, yy = map(float, input().split())\n",
    "        arr.append([tt, yy])\n",
    "        \n",
    "    arr.sort()\n",
    "    t, y = [], []\n",
    "    for i in range(len(arr)):\n",
    "        tt, yy = arr[i]\n",
    "        t.append(tt)\n",
    "        y.append(yy)\n",
    "\n",
    "    set_t = list(set(t))       \n",
    "    count_t = []\n",
    "    for tt in set_t:\n",
    "        count_t.append(t.count(tt))    \n",
    "\n",
    "    set_y = list(set(y))\n",
    "    set_y.sort()  \n",
    "    count_y = []\n",
    "    for yy in set_y:\n",
    "        count_y.append(y.count(yy)) \n",
    "\n",
    "    K = 0\n",
    "    t.reverse()\n",
    "    ind = []\n",
    "    for tt in set_t:\n",
    "        ind.append(n - t.index(tt) - 1)\n",
    "    t.reverse()\n",
    "    K = 0\n",
    "    for i in ind:\n",
    "        K += (n - i - 1) * t.count(t[i])\n",
    "\n",
    "    S = 0\n",
    "    for i in range(n):\n",
    "        ti = t[i]\n",
    "        ind_ti = set_t.index(ti)\n",
    "        count_ti = count_t[ind_ti]\n",
    "\n",
    "        for j in range(i, i + count_ti):\n",
    "            yj = y[j]\n",
    "            ind_yj = set_y.index(yj)\n",
    "            count_y[ind_yj] -= 1\n",
    "        count_t[ind_ti] = 0\n",
    "\n",
    "        yi = y[i]\n",
    "        ind_yi = set_y.index(yi)\n",
    "        S += 0.5 * count_y[ind_yi] + sum(count_y[ind_yi + 1:])\n",
    "    print(S / K)\n",
    "\n",
    "\n",
    "if __name__ == '__main__':\n",
    "    main()"
   ]
  }
 ],
 "metadata": {
  "kernelspec": {
   "display_name": "Python 3 (ipykernel)",
   "language": "python",
   "name": "python3"
  },
  "language_info": {
   "codemirror_mode": {
    "name": "ipython",
    "version": 3
   },
   "file_extension": ".py",
   "mimetype": "text/x-python",
   "name": "python",
   "nbconvert_exporter": "python",
   "pygments_lexer": "ipython3",
   "version": "3.9.7"
  }
 },
 "nbformat": 4,
 "nbformat_minor": 5
}
