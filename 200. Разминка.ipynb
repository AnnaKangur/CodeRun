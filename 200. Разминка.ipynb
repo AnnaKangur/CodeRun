{
 "cells": [
  {
   "cell_type": "markdown",
   "id": "f91bfbae",
   "metadata": {},
   "source": [
    "# 200. Разминка"
   ]
  },
  {
   "cell_type": "code",
   "execution_count": 1,
   "id": "ee6a57af",
   "metadata": {},
   "outputs": [],
   "source": [
    "import sys\n",
    "\n",
    "def main():\n",
    "    x_train = []\n",
    "    y_train = []\n",
    "    with open('train.tsv', 'r') as f:\n",
    "        for line in f:\n",
    "            l = list(map(float, line.split('\\t')))\n",
    "            x_train.append(l[:100])\n",
    "            y_train.append(l[100])\n",
    "            \n",
    "    x_test = []\n",
    "    with open('test.tsv', 'r') as f:\n",
    "        for line in f:\n",
    "            l = list(map(float, line.split('\\t')))\n",
    "            x_test.append(l)\n",
    "            \n",
    "    from sklearn import linear_model\n",
    "    reg = linear_model.LinearRegression()\n",
    "    reg.fit(x_train, y_train)\n",
    "    pred = reg.predict(x_test)\n",
    "    # print(*pred,sep = '\\n')  \n",
    "    pred_str = list(map(str, pred))\n",
    "    answer = '\\n'.join(pred_str)\n",
    "    writer = open('answer.tsv', 'w')\n",
    "    writer.write(answer)\n",
    "    writer.close()\n",
    "    \n",
    "if __name__ == '__main__':\n",
    "    main()"
   ]
  }
 ],
 "metadata": {
  "kernelspec": {
   "display_name": "Python 3 (ipykernel)",
   "language": "python",
   "name": "python3"
  },
  "language_info": {
   "codemirror_mode": {
    "name": "ipython",
    "version": 3
   },
   "file_extension": ".py",
   "mimetype": "text/x-python",
   "name": "python",
   "nbconvert_exporter": "python",
   "pygments_lexer": "ipython3",
   "version": "3.9.7"
  }
 },
 "nbformat": 4,
 "nbformat_minor": 5
}
